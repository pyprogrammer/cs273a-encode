{
 "cells": [
  {
   "cell_type": "code",
   "execution_count": 1,
   "metadata": {},
   "outputs": [],
   "source": [
    "import pyBigWig as pbw\n",
    "import os\n",
    "import re\n",
    "import collections\n",
    "import pandas as pd\n",
    "import tensorflow_lattice as tfl\n",
    "from Bio import SeqIO\n",
    "import gzip\n",
    "import tensorflow as tf\n",
    "import time\n",
    "import numpy as np\n",
    "import multiprocessing as mp"
   ]
  },
  {
   "cell_type": "code",
   "execution_count": 2,
   "metadata": {},
   "outputs": [],
   "source": [
    "train_data_path = \"../data/train\"\n",
    "fasta_path = \"../data/GRCh38_no_alt_analysis_set_GCA_000001405.15.fasta.gz\"\n",
    "numpy_export_path = \"../data/np_train/\"\n"
   ]
  },
  {
   "cell_type": "code",
   "execution_count": null,
   "metadata": {},
   "outputs": [],
   "source": []
  },
  {
   "cell_type": "code",
   "execution_count": 5,
   "metadata": {},
   "outputs": [],
   "source": [
    "expanded_path = os.path.abspath(os.path.expanduser(os.path.expandvars(train_data_path)))\n",
    "wig_files = [name for name in os.listdir(expanded_path) if name.endswith(\".bigwig\")]\n",
    "\n",
    "def parse_name(filename):\n",
    "    cell_line, assay = re.match(\"C(\\d+)M(\\d+)\\.bigwig\", filename).groups()\n",
    "    return int(cell_line, base=10), int(assay, base=10)\n",
    "\n",
    "def process_wig(wig_filename):\n",
    "    dt = np.dtype(\"int, int, float\")\n",
    "    cell_line, assay = parse_name(wig_filename)\n",
    "    pbwf = pbw.open(os.path.join(expanded_path, wig_filename), \"r\")\n",
    "    for chrom in [f\"chr{x}\" for x in range(1, 23)] + [\"chrX\"]:\n",
    "        arr = np.array(list(pbwf.intervals(chrom)), dtype=dt)\n",
    "        np.save(os.path.abspath(os.path.join(numpy_export_path, f\"{cell_line}_{assay}_{chrom}.npy\")), arr)\n",
    "        \n",
    "with mp.Pool(32) as pool:\n",
    "    pool.map(process_wig, wig_files)"
   ]
  },
  {
   "cell_type": "code",
   "execution_count": 3,
   "metadata": {},
   "outputs": [],
   "source": [
    "class SparseWigTensor:\n",
    "    target_chroms = [f\"chr{x}\" for x in range(1, 23)] + [\"chrX\"]\n",
    "    missing = -1\n",
    "    \n",
    "    @staticmethod\n",
    "    def parse_name(filename):\n",
    "        cell_line, assay = re.match(\"C(\\d+)M(\\d+)\\.bigwig\", filename).groups()\n",
    "        return int(cell_line, base=10), int(assay, base=10)\n",
    "    \n",
    "    def __init__(self, path):\n",
    "        # {cell_line : {assay: wig}}\n",
    "        self.wigs = collections.defaultdict(dict)\n",
    "        self._load_wigs(path)\n",
    "        self._initialize_chr_mapping()\n",
    "        \n",
    "    \n",
    "    def _load_wigs(self, path):\n",
    "        expanded_path = os.path.abspath(os.path.expanduser(os.path.expandvars(path)))\n",
    "        wig_files = [name for name in os.listdir(expanded_path) if name.endswith(\".bigwig\")]\n",
    "        for wig_filename in wig_files:\n",
    "            cell_line, assay = SparseWigTensor.parse_name(wig_filename)\n",
    "            self.wigs[cell_line][assay] = pbw.open(os.path.join(expanded_path, wig_filename), \"r\")\n",
    "            \n",
    "    def _initialize_chr_mapping(self):\n",
    "        names = set()\n",
    "        for _, _, pbw_file in self:\n",
    "            names.update(pbw_file.chroms().keys())\n",
    "        self.chr_mapping = {name: i for i, name in enumerate(sorted(names))}\n",
    "        \n",
    "            \n",
    "    def close(self):\n",
    "        for _, _, pbw_file in self:\n",
    "            pbw_file.close()\n",
    "    \n",
    "    def __del__(self):\n",
    "        self.close()\n",
    "\n",
    "    def __iter__(self):\n",
    "        for cell_line, assays in self.wigs.items():\n",
    "            for assay_id, pbw_file in assays.items():\n",
    "                yield (cell_line, assay_id, pbw_file)"
   ]
  },
  {
   "cell_type": "code",
   "execution_count": 4,
   "metadata": {
    "scrolled": false
   },
   "outputs": [],
   "source": [
    "swt = SparseWigTensor(train_data_path)"
   ]
  },
  {
   "cell_type": "code",
   "execution_count": 47,
   "metadata": {},
   "outputs": [
    {
     "name": "stdout",
     "output_type": "stream",
     "text": [
      "Total: 13.289730787277222\n"
     ]
    }
   ],
   "source": [
    "start = time.time()\n",
    "dt = np.dtype(\"int, int, float\")\n",
    "for line, assay, pbwf in swt:\n",
    "    for chrom in swt.target_chroms:\n",
    "        arr = np.array(list(pbwf.intervals(chrom)), dtype=dt)\n",
    "        np.save(os.path.abspath(os.path.join(numpy_export_path, f\"{line}_{assay}_{chrom}.npy\")), arr)\n",
    "print(\"Total:\", time.time() - start)"
   ]
  },
  {
   "cell_type": "code",
   "execution_count": 50,
   "metadata": {},
   "outputs": [],
   "source": [
    "def convert_to_numpy(line, assay, pbwf):\n",
    "    dt = np.dtype(\"int, int, float\")\n",
    "    for chrom in swt.target_chroms:\n",
    "        arr = np.array(list(pbwf.intervals(chrom)), dtype=dt)\n",
    "        np.save(os.path.abspath(os.path.join(numpy_export_path, f\"{line}_{assay}_{chrom}.npy\")), arr)"
   ]
  },
  {
   "cell_type": "code",
   "execution_count": null,
   "metadata": {},
   "outputs": [],
   "source": [
    "with ThreadPool(32) as pool:\n",
    "    pool.starmap(convert_to_numpy, swt)"
   ]
  },
  {
   "cell_type": "code",
   "execution_count": null,
   "metadata": {},
   "outputs": [],
   "source": []
  }
 ],
 "metadata": {
  "kernelspec": {
   "display_name": "Python 3",
   "language": "python",
   "name": "python3"
  },
  "language_info": {
   "codemirror_mode": {
    "name": "ipython",
    "version": 3
   },
   "file_extension": ".py",
   "mimetype": "text/x-python",
   "name": "python",
   "nbconvert_exporter": "python",
   "pygments_lexer": "ipython3",
   "version": "3.6.7"
  }
 },
 "nbformat": 4,
 "nbformat_minor": 2
}
